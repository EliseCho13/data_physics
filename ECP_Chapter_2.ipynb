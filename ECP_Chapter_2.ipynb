{
  "nbformat": 4,
  "nbformat_minor": 0,
  "metadata": {
    "colab": {
      "provenance": [],
      "toc_visible": true,
      "include_colab_link": true
    },
    "kernelspec": {
      "name": "python3",
      "display_name": "Python 3"
    },
    "language_info": {
      "name": "python"
    }
  },
  "cells": [
    {
      "cell_type": "markdown",
      "metadata": {
        "id": "view-in-github",
        "colab_type": "text"
      },
      "source": [
        "<a href=\"https://colab.research.google.com/github/EliseCho13/data_physics/blob/main/ECP_Chapter_2.ipynb\" target=\"_parent\"><img src=\"https://colab.research.google.com/assets/colab-badge.svg\" alt=\"Open In Colab\"/></a>"
      ]
    },
    {
      "cell_type": "markdown",
      "source": [
        "\n",
        "# Comments\n",
        "\n",
        "*   Python uses the # character to denote comments.\n",
        "*  Any characters after a # on a line are skipped.\n",
        "* 코멘트를 최대한 자세하게 적어놓는 습관이 중요함."
      ],
      "metadata": {
        "id": "xo0fJEoUogX5"
      }
    },
    {
      "cell_type": "code",
      "execution_count": null,
      "metadata": {
        "id": "cUT-455goPNg"
      },
      "outputs": [],
      "source": [
        "# this whole line is a comment\n",
        "this_part = \"is not a comment\"  # this part is a comment\n"
      ]
    },
    {
      "cell_type": "markdown",
      "source": [
        "# Variables\n",
        "Variables consist of two parts: the name and the value. To assign a variable to a name, use a single equals sign (=)."
      ],
      "metadata": {
        "id": "3faZyc2Noy6G"
      }
    },
    {
      "cell_type": "code",
      "source": [
        "h_bar = 1.05457e-34\n",
        "\n",
        "pi = 3.14159\n",
        "h = 2 * pi * h_bar\n",
        "print(h)\n"
      ],
      "metadata": {
        "colab": {
          "base_uri": "https://localhost:8080/"
        },
        "id": "zImLDte7o8kP",
        "outputId": "7ea1ea17-655d-49dc-9366-73c9a0022bd1"
      },
      "execution_count": null,
      "outputs": [
        {
          "output_type": "stream",
          "name": "stdout",
          "text": [
            "6.6260531326e-34\n"
          ]
        }
      ]
    },
    {
      "cell_type": "markdown",
      "source": [
        "All variables in Python are **typed**. This means that the values have certain well-defined properties that dictate how they are used.\n",
        "\n",
        "\n",
        "*   Integers and floating-point numbers (**int** and **float**) are meant for mathematical operations.\n",
        "*   Strings (**str**) are helpful for textual manipulation.\n",
        "\n",
        "C/C++ 와 다르게 python 은 컨텍스트를 봐서 자동으로 타입을 결정된다.\n",
        "\n"
      ],
      "metadata": {
        "id": "z2mUV-H0ppFN"
      }
    },
    {
      "cell_type": "code",
      "source": [
        "dims = 3                   # int, only digits\n",
        "ndim = 3.0                 # float, because of the '.'\n",
        "h_bar = 1.05457e-34        # float, because of the '.' or 'e'\n",
        "label = \"Energy (in MeV)\"  # str, quotes surround the text\n",
        "\n",
        "# type() 함수를 이용하여 변수 타입을 확인할 수 있다.\n",
        "print(\"h_bar is\", type(h_bar))\n",
        "\n",
        "# int(), float(), str() 함수를 이용해서 변수의 타입을 강제 변환할 수 있다.\n",
        "h_bar_string = str(h_bar)\n",
        "print(h_bar_string)\n",
        "print(\"h_bar_string is\", type(h_bar_string))"
      ],
      "metadata": {
        "colab": {
          "base_uri": "https://localhost:8080/"
        },
        "id": "GeL6kNxUqXVR",
        "outputId": "ffe1b0dc-f25b-44b9-cf7f-47b9c081c632"
      },
      "execution_count": null,
      "outputs": [
        {
          "output_type": "stream",
          "name": "stdout",
          "text": [
            "h_bar is <class 'float'>\n",
            "1.05457e-34\n",
            "h_bar_string is <class 'str'>\n"
          ]
        }
      ]
    },
    {
      "cell_type": "markdown",
      "source": [
        "#Special Variables\n",
        "Python has a few special variables that are so important that their values are *built into* the language:\n",
        "\n",
        "\n",
        "*   **True, False** 는 Boolean type.\n",
        "*   **None** is a special variable in Python that is used to denote that no value was given or that no behavior was defined. C/C++ 에서 NULL 과 같음. False 도 어쨌든 정의는 된 것이기 때문에 None 이 아님.\n",
        "*   **NotImplemented** 은 에러 핸들링에 쓰임.\n",
        "\n"
      ],
      "metadata": {
        "id": "l8YhHUANr7cF"
      }
    },
    {
      "cell_type": "code",
      "source": [
        "# bool() 함수는 Returns True when the argument x is true\n",
        "print(bool(0))\n",
        "print(bool(1))\n",
        "print(bool(2))\n",
        "print(bool(2>1))\n",
        "print(bool(True))"
      ],
      "metadata": {
        "colab": {
          "base_uri": "https://localhost:8080/"
        },
        "id": "2SvfWXBErvd_",
        "outputId": "48395271-8d13-4a9c-cbad-cba7189be0a3"
      },
      "execution_count": null,
      "outputs": [
        {
          "output_type": "stream",
          "name": "stdout",
          "text": [
            "False\n",
            "True\n",
            "True\n",
            "True\n",
            "True\n"
          ]
        }
      ]
    },
    {
      "cell_type": "markdown",
      "source": [
        "#Operators\n",
        "\n"
      ],
      "metadata": {
        "id": "PyMzwnGPwg-S"
      }
    },
    {
      "cell_type": "markdown",
      "source": [
        "**Unary operators**"
      ],
      "metadata": {
        "id": "pbhWwBWTpX7v"
      }
    },
    {
      "cell_type": "code",
      "source": [
        "#\n",
        "\n",
        "print(+1, -1)\n",
        "print(not 1, not True, not False) # negation\n",
        "h_bar_string = str(h_bar)\n",
        "del h_bar_string # 변수를 지움.\n"
      ],
      "metadata": {
        "colab": {
          "base_uri": "https://localhost:8080/",
          "height": 228
        },
        "id": "Eyd3C0OnwuLX",
        "outputId": "bd367934-811b-4f47-83ec-833acc329638"
      },
      "execution_count": null,
      "outputs": [
        {
          "output_type": "stream",
          "name": "stdout",
          "text": [
            "1 -1\n",
            "False False True\n"
          ]
        },
        {
          "output_type": "error",
          "ename": "NameError",
          "evalue": "name 'h_bar' is not defined",
          "traceback": [
            "\u001b[0;31m---------------------------------------------------------------------------\u001b[0m",
            "\u001b[0;31mNameError\u001b[0m                                 Traceback (most recent call last)",
            "\u001b[0;32m<ipython-input-1-4ef855b8fe25>\u001b[0m in \u001b[0;36m<cell line: 5>\u001b[0;34m()\u001b[0m\n\u001b[1;32m      3\u001b[0m \u001b[0mprint\u001b[0m\u001b[0;34m(\u001b[0m\u001b[0;34m+\u001b[0m\u001b[0;36m1\u001b[0m\u001b[0;34m,\u001b[0m \u001b[0;34m-\u001b[0m\u001b[0;36m1\u001b[0m\u001b[0;34m)\u001b[0m\u001b[0;34m\u001b[0m\u001b[0;34m\u001b[0m\u001b[0m\n\u001b[1;32m      4\u001b[0m \u001b[0mprint\u001b[0m\u001b[0;34m(\u001b[0m\u001b[0;32mnot\u001b[0m \u001b[0;36m1\u001b[0m\u001b[0;34m,\u001b[0m \u001b[0;32mnot\u001b[0m \u001b[0;32mTrue\u001b[0m\u001b[0;34m,\u001b[0m \u001b[0;32mnot\u001b[0m \u001b[0;32mFalse\u001b[0m\u001b[0;34m)\u001b[0m \u001b[0;31m# negation\u001b[0m\u001b[0;34m\u001b[0m\u001b[0;34m\u001b[0m\u001b[0m\n\u001b[0;32m----> 5\u001b[0;31m \u001b[0mh_bar_string\u001b[0m \u001b[0;34m=\u001b[0m \u001b[0mstr\u001b[0m\u001b[0;34m(\u001b[0m\u001b[0mh_bar\u001b[0m\u001b[0;34m)\u001b[0m\u001b[0;34m\u001b[0m\u001b[0;34m\u001b[0m\u001b[0m\n\u001b[0m\u001b[1;32m      6\u001b[0m \u001b[0;32mdel\u001b[0m \u001b[0mh_bar_string\u001b[0m \u001b[0;31m# 변수를 지움.\u001b[0m\u001b[0;34m\u001b[0m\u001b[0;34m\u001b[0m\u001b[0m\n",
            "\u001b[0;31mNameError\u001b[0m: name 'h_bar' is not defined"
          ]
        }
      ]
    },
    {
      "cell_type": "markdown",
      "source": [
        "**Binary Operators**"
      ],
      "metadata": {
        "id": "sgXoncJLx8m3"
      }
    },
    {
      "cell_type": "code",
      "source": [
        "# logical AND and OR. C/C++ 은 AND 대신 && OR 대신 || 를 사용함.\n",
        "print(True and False)\n",
        "print(True or False)\n",
        "print( 2 > 1 and 3 < 2)\n",
        "\n",
        "x = 100 # = 도 binary operator"
      ],
      "metadata": {
        "colab": {
          "base_uri": "https://localhost:8080/"
        },
        "id": "UqlA59u-x6CW",
        "outputId": "eb7e90f6-151d-40af-f5fd-d49114e2ef2e"
      },
      "execution_count": null,
      "outputs": [
        {
          "output_type": "stream",
          "name": "stdout",
          "text": [
            "False\n",
            "True\n",
            "False\n"
          ]
        }
      ]
    },
    {
      "cell_type": "markdown",
      "source": [
        "**Arithmetic Binary Operators**"
      ],
      "metadata": {
        "id": "dwmczv-gzRj-"
      }
    },
    {
      "cell_type": "code",
      "source": [
        "# +, -, *, / 는 당연하고...\n",
        "print(2**3) # exponential\n",
        "print(2^3) # exponential 을 ^ 로 표현하는 경우도 있지만, python 에서 ^ 는 \"Bitwise Exclusive Or\" 를 의미함.\n",
        "\n",
        "print(3%2) # modulo. 나머지.\n",
        "print(3//2) # quotient. 몫.\n"
      ],
      "metadata": {
        "colab": {
          "base_uri": "https://localhost:8080/"
        },
        "id": "cXMMKlNFzRP7",
        "outputId": "bcc96938-519c-4425-bd4f-2aacc90c4f42"
      },
      "execution_count": null,
      "outputs": [
        {
          "output_type": "stream",
          "name": "stdout",
          "text": [
            "8\n",
            "1\n",
            "1\n",
            "1\n"
          ]
        }
      ]
    },
    {
      "cell_type": "markdown",
      "source": [
        "**Comparison Binary Operators**"
      ],
      "metadata": {
        "id": "Ak9_Y_hrz7NM"
      }
    },
    {
      "cell_type": "code",
      "source": [
        "print (1 == 1)\n",
        "print (1 == 1.000000000000000000001) # 실수 비교는 항상 조심해야 함.\n",
        "print (2 >= 1)"
      ],
      "metadata": {
        "colab": {
          "base_uri": "https://localhost:8080/"
        },
        "id": "jjsxNgIG0c2_",
        "outputId": "a058e270-216e-4bf7-d9f6-ba8c664ed403"
      },
      "execution_count": null,
      "outputs": [
        {
          "output_type": "stream",
          "name": "stdout",
          "text": [
            "True\n",
            "True\n",
            "True\n"
          ]
        }
      ]
    },
    {
      "cell_type": "code",
      "source": [],
      "metadata": {
        "id": "aFEBiI6S5c1q"
      },
      "execution_count": null,
      "outputs": []
    },
    {
      "cell_type": "code",
      "source": [],
      "metadata": {
        "id": "hKj1-x7K5beU"
      },
      "execution_count": null,
      "outputs": []
    },
    {
      "cell_type": "markdown",
      "source": [
        "**Ternary Operators**\n"
      ],
      "metadata": {
        "id": "VlsqoOMa1A-a"
      }
    },
    {
      "cell_type": "code",
      "source": [
        "x = y = 1 # Set x and y to the value of z. C/C++ 에는 없는 문법.\n",
        "print(x,y)\n",
        "print(1 < 2 < 3) # equivalent to (x < y) and (y < z). C/C++ 에는 없는 문법.\n",
        "print(1 > 2 > 3)"
      ],
      "metadata": {
        "colab": {
          "base_uri": "https://localhost:8080/"
        },
        "id": "m4eijTM01ECL",
        "outputId": "6dd3a6be-37ca-47da-e23c-257e1bd9e554"
      },
      "execution_count": null,
      "outputs": [
        {
          "output_type": "stream",
          "name": "stdout",
          "text": [
            "1 1\n",
            "True\n",
            "False\n"
          ]
        }
      ]
    },
    {
      "cell_type": "markdown",
      "source": [
        "# String\n",
        "\n"
      ],
      "metadata": {
        "id": "G10DdeEI3KS2"
      }
    },
    {
      "cell_type": "markdown",
      "source": [
        "**String indexing**"
      ],
      "metadata": {
        "id": "oiHxXdNBpua2"
      }
    },
    {
      "cell_type": "code",
      "source": [
        "\n",
        "p = \"proton\"   # String 은 배열에 저장됨.\n",
        "print(p[0]) # String의 첫 문자. python의 인덱스 시스템은 0-based!!\n",
        "print(p[5])\n",
        "print(p[-1]) # String의 마지막 문자\n",
        "print(p[-2])\n",
        "print(len(p)) # String의 길이\n",
        "print(p[len(p)-1]) # String의 마지막 문자\n"
      ],
      "metadata": {
        "colab": {
          "base_uri": "https://localhost:8080/"
        },
        "id": "QJCohjwj2_Xo",
        "outputId": "f1ac778a-248d-4308-bc47-e964f358575f"
      },
      "execution_count": null,
      "outputs": [
        {
          "output_type": "stream",
          "name": "stdout",
          "text": [
            "p\n",
            "n\n",
            "n\n",
            "o\n",
            "6\n",
            "n\n"
          ]
        }
      ]
    },
    {
      "cell_type": "code",
      "source": [],
      "metadata": {
        "id": "R6UjUi5m6cKs"
      },
      "execution_count": null,
      "outputs": []
    },
    {
      "cell_type": "code",
      "source": [],
      "metadata": {
        "id": "DTJ12g8k6P8e"
      },
      "execution_count": null,
      "outputs": []
    },
    {
      "cell_type": "code",
      "source": [
        "# slicing a string into a substring. 나중에 볼 배열의 slicing 과 같은 문법.\n",
        "print(p[2:4])\n",
        "print(p[:2])   # the first two elements\n",
        "print(p[-5:])  # the last five elements\n",
        "print(p[:])    # the whole string!\n"
      ],
      "metadata": {
        "colab": {
          "base_uri": "https://localhost:8080/"
        },
        "id": "71Qc3fRC3I3u",
        "outputId": "c9ad52a0-aa94-465c-815a-164d6834941f"
      },
      "execution_count": null,
      "outputs": [
        {
          "output_type": "stream",
          "name": "stdout",
          "text": [
            "ot\n",
            "pr\n",
            "roton\n",
            "proton\n"
          ]
        }
      ]
    },
    {
      "cell_type": "markdown",
      "source": [
        "\n",
        "**String Methods**\n",
        "\n",
        "Variables in Python have other variables that may “live on” them. These are known as **attributes**. Attributes, or attrs for short, are accessed using the dot operator (**.**).\n",
        "\n",
        "예를 들어, 위에서 p 변수를 정의했는데, \"p.\"을 입력하고 잠깐 기다리면 p 변수에 딸린 method 나 변수 리스트를 보여준다.*italicized text*"
      ],
      "metadata": {
        "id": "ECIS8qIr5Ndg"
      }
    },
    {
      "cell_type": "code",
      "source": [
        "header = \"  temperature  pressure\\t value \\n\"\n",
        "\n",
        "print(header.strip()) # It removes all leading and trailing whitespace while preserving internal whitespace. strip()은 함수이기 때문에 () 를 붙여줘야 함.\n",
        "print(header.upper())\n",
        "print(header.upper().strip())\n",
        "\n"
      ],
      "metadata": {
        "colab": {
          "base_uri": "https://localhost:8080/"
        },
        "id": "_QjVcQ3C5d1Q",
        "outputId": "9635f5f1-e5cc-4482-b6c3-1babae5cd866"
      },
      "execution_count": null,
      "outputs": [
        {
          "output_type": "stream",
          "name": "stdout",
          "text": [
            "temperature  pressure\t value\n",
            "  TEMPERATURE  PRESSURE\t VALUE \n",
            "\n",
            "TEMPERATURE  PRESSURE\t VALUE\n"
          ]
        }
      ]
    },
    {
      "cell_type": "code",
      "source": [
        "x = 42\n",
        "y = 65.0\n",
        "\n",
        "print(\"x={0} y={1}\".format(x, y)) # 변수가 아닌 \"\" 자체에도 메소드가 있음. format() 메소드를 사용해서 문장을 만든다.\n",
        "\n",
        "print(\"x=\" + str(x) + \" y=\" + str(y)) # + 를 사용해서 문장을 이어 붙일 수도 있음.\n"
      ],
      "metadata": {
        "colab": {
          "base_uri": "https://localhost:8080/"
        },
        "id": "GQLaGxdP655B",
        "outputId": "8ddc4169-d189-4d4b-b207-d93a0a107a9d"
      },
      "execution_count": null,
      "outputs": [
        {
          "output_type": "stream",
          "name": "stdout",
          "text": [
            "x=42 y=65.0\n",
            "x=42 y=65.0\n"
          ]
        }
      ]
    },
    {
      "cell_type": "markdown",
      "source": [
        "# Modules\n",
        "\n",
        "Python code is typically written in files whose names end in the *.py* extension. When such a file is brought into a running Python interpreter, it is called a **module**. This is the in-memory representation of all of the Python code in the file. A collection of modules in a directory is called a **package**.\n",
        "\n",
        "*   Module 은 import 를 이용해서 읽을 수 있음. C/C++ 의 #include 와 비슷.\n",
        "*   실제로 일을 할 때는 numpy, scipy 등의 패키지를 사용하게 됨.\n",
        "\n"
      ],
      "metadata": {
        "id": "smfl4XMq8hZ0"
      }
    },
    {
      "cell_type": "markdown",
      "source": [
        "1. **Importing Modules**\n",
        "\n",
        "constants.py 파일에\n",
        "\n",
        "\n",
        "```\n",
        "pi = 3.14159\n",
        "h = 6.62606957e-34\n",
        "```\n",
        "이 저장되어 있다면,\n",
        "\n",
        "```\n",
        "import constants\n",
        "\n",
        "two_pi = 2 * constants.pi\n",
        "h_bar = constants.h / two_pi\n",
        "\n",
        "```\n",
        "와 같이 모듈의 변수나 함수를 이용할 수 있다.\n"
      ],
      "metadata": {
        "id": "2g8o47TJ-gVt"
      }
    },
    {
      "cell_type": "markdown",
      "source": [
        "2. **Importing Variables from a Module**\n",
        "\n",
        "\n",
        "```\n",
        "from <module> import <var1>, <var2>, ...\n",
        "```\n",
        "문법을 이용해서 변수를 직접 사용할 수 있음.\n",
        "\n",
        "```\n",
        "from constants import pi, h\n",
        "\n",
        "two_pi = 2 * pi\n",
        "h_bar = h / two_pi\n",
        "```\n",
        "\n"
      ],
      "metadata": {
        "id": "HM16Qw9e_KYj"
      }
    },
    {
      "cell_type": "markdown",
      "source": [
        "3. **Aliasing Imports**\n",
        "\n",
        "```\n",
        "import constants as c\n",
        "\n",
        "constants = 2.71828\n",
        "\n",
        "two_pi = 2 * c.pi\n",
        "h_bar = c.h / 2 / c.pi\n",
        "\n",
        "```\n",
        "\n",
        "\n"
      ],
      "metadata": {
        "id": "HcEDlC3v_pja"
      }
    },
    {
      "cell_type": "markdown",
      "source": [
        "4. **Aliasing Variables on Import**\n",
        "\n",
        "```\n",
        "from constants import pi as PI, h as H\n",
        "\n",
        "two_pi = 2 * PI\n",
        "h_bar = H / two_pi\n",
        "```\n",
        "\n"
      ],
      "metadata": {
        "id": "BnMET9po_82F"
      }
    }
  ]
}